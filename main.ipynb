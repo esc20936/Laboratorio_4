{
 "cells": [
  {
   "attachments": {},
   "cell_type": "markdown",
   "metadata": {},
   "source": [
    "# Pablo Escobar\n",
    "## 20936\n",
    "## lab 4"
   ]
  },
  {
   "cell_type": "code",
   "execution_count": null,
   "metadata": {},
   "outputs": [],
   "source": [
    "import numpy as np\n",
    "import matplotlib.pyplot as plt\n",
    "import linreg as l \n",
    "import quad as q"
   ]
  },
  {
   "attachments": {},
   "cell_type": "markdown",
   "metadata": {},
   "source": [
    "## Task 1.1: Leer el csv y almacenarlo en un np.array para ser trabajado en el notebook.\n"
   ]
  },
  {
   "cell_type": "code",
   "execution_count": null,
   "metadata": {},
   "outputs": [],
   "source": [
    "# Abriendo el csv.\n",
    "csvValues = np.genfromtxt('framingham.csv', delimiter=',')\n",
    "csvValues = csvValues[1:, :]"
   ]
  },
  {
   "attachments": {},
   "cell_type": "markdown",
   "metadata": {},
   "source": [
    "# Task 1.2: Ajustar un modelo logístico polinomial en base al juego de datos cargado de forma matricial que relaciona las variables independientes que usted considere apropiadas (puede no utilizar todas las componentes de X), con la variable dependiente de salida (sufre o no sufre un paro cardíaco)."
   ]
  },
  {
   "cell_type": "code",
   "execution_count": null,
   "metadata": {},
   "outputs": [],
   "source": [
    "# Fuma o no.\n",
    "X = csvValues[:,4]\n",
    "# paro cardíaco.\n",
    "y = csvValues[:,14]\n",
    "# Heartrate.\n",
    "x = csvValues[:,12]\n",
    "# paro cardíaco.\n",
    "y = csvValues[:,14]\n",
    "# graph.\n",
    "plt.scatter(X, y, color=\"green\")\n",
    "plt.scatter(x, y, color=\"orange\")\n",
    "plt.show()\n",
    "\n"
   ]
  },
  {
   "attachments": {},
   "cell_type": "markdown",
   "metadata": {},
   "source": [
    "# Task 1.3: Utilice la implementación vectorial del algoritmo de regresión logística (descenso del gradiente visto en clase)"
   ]
  },
  {
   "cell_type": "code",
   "execution_count": null,
   "metadata": {},
   "outputs": [],
   "source": [
    "import numpy as np\n",
    "import matplotlib.pyplot as plt\n",
    "\n",
    "X = csvValues[:,4]\n",
    "y = csvValues[:,14]\n",
    "X = X[~np.isnan(X)]\n",
    "y = y[~np.isnan(y)]\n",
    "\n",
    "X = X.reshape((-1, 1))\n",
    "y = y.reshape((-1, 1))\n",
    "\n",
    "if len(X) > len(y):\n",
    "    y = np.vstack((y, np.zeros((len(X) - len(y), 1))))\n",
    "elif len(y) > len(X):\n",
    "    X = np.vstack((X, np.zeros((len(y) - len(X), 1))))\n",
    "\n",
    "Xr = np.hstack((np.ones_like(X), X))\n",
    "t0 = np.random.rand(Xr.shape[1], 1)\n",
    "t0 = t0[~np.isnan(t0)]\n",
    "t0 = t0.reshape((len(t0), 1))\n",
    "tf, costs = l.linear_regression( Xr, y, t0, q.cost, q.grad, a=0.000001, n=2000 )\n",
    "xm = np.array([[0], [len(X)]])\n",
    "xmr = np.hstack(( np.ones((2, 1)), xm ))\n",
    "ym = xmr @ tf\n",
    "plt.plot(X, y, \"ro\")\n",
    "plt.plot(xm, ym)\n",
    "plt.show()\n",
    "plt.plot(costs, color=\"green\")\n",
    "plt.show()"
   ]
  },
  {
   "attachments": {},
   "cell_type": "markdown",
   "metadata": {},
   "source": [
    "# 1.4: Usando cross-validation determine el grado del polinomio que mejor describe la nube de puntos (encuentre el mejor balance entre apego a los datos de entrenamiento y generalización para datos previamente no observados)."
   ]
  },
  {
   "attachments": {},
   "cell_type": "markdown",
   "metadata": {},
   "source": [
    "# grado 1"
   ]
  },
  {
   "cell_type": "code",
   "execution_count": null,
   "metadata": {},
   "outputs": [],
   "source": [
    "\n",
    "# X and y are the input and output variables, respectively.\n",
    "X = csvValues[:,4]\n",
    "y = csvValues[:,14]\n",
    "\n",
    "# Remove any NaN values from X and y\n",
    "X = X[~np.isnan(X)]\n",
    "y = y[~np.isnan(y)]\n",
    "\n",
    "# Reshape X and y to be 2D arrays\n",
    "X = X.reshape((-1, 1))\n",
    "y = y.reshape((-1, 1))\n",
    "\n",
    "# Pad the input array with zeros, if necessary\n",
    "if len(X) > len(y):\n",
    "    y = np.vstack((y, np.zeros((len(X) - len(y), 1))))\n",
    "elif len(y) > len(X):\n",
    "    X = np.vstack((X, np.zeros((len(y) - len(X), 1))))\n",
    "\n",
    "# Add polynomial features to X\n",
    "Xr = np.hstack((np.ones_like(X), X))\n",
    "Xr = np.hstack(( Xr, Xr[:, 1].reshape((Xr.shape[0], 1)) ** 1 ))\n",
    "\n",
    "# Initialize the weights\n",
    "t0 = np.random.rand(Xr.shape[1], 1)\n",
    "t0 = t0[~np.isnan(t0)]\n",
    "t0 = t0.reshape((len(t0), 1))\n",
    "\n",
    "# Perform linear regression\n",
    "tf, costs = l.linear_regression( Xr, y, t0, q.cost, q.grad, a=0.00001, n=10000 )\n",
    "\n",
    "# Make predictions\n",
    "xm = np.array([[0], [len(X)]])\n",
    "xmr = np.hstack(( np.ones((2, 1)), xm ))\n",
    "xmr = np.hstack(( xmr, xmr[:, 1].reshape((xmr.shape[0], 1)) ** 1 ))\n",
    "ym = xmr @ tf \n",
    "\n",
    "# Plot the results\n",
    "plt.plot(X, y, \"ro\")\n",
    "plt.plot(xm, ym)\n",
    "plt.show()\n",
    "plt.plot(costs, color=\"green\")\n",
    "plt.show()"
   ]
  },
  {
   "attachments": {},
   "cell_type": "markdown",
   "metadata": {},
   "source": [
    "# grado 2"
   ]
  },
  {
   "cell_type": "code",
   "execution_count": null,
   "metadata": {},
   "outputs": [],
   "source": [
    "# X is the input data, y is the output data. \n",
    "X = csvValues[:,4]\n",
    "y = csvValues[:,14]\n",
    "\n",
    "# Remove rows with NaN values in either X or y.\n",
    "X = X[~np.isnan(X)]\n",
    "y = y[~np.isnan(y)]\n",
    "\n",
    "# Reshape X and y into column vectors.\n",
    "X = X.reshape((-1, 1))\n",
    "y = y.reshape((-1, 1))\n",
    "\n",
    "# If X has more elements than y, append zeros to y.\n",
    "if len(X) > len(y):\n",
    "    y = np.vstack((y, np.zeros((len(X) - len(y), 1))))\n",
    "\n",
    "# If y has more elements than X, append zeros to X.\n",
    "elif len(y) > len(X):\n",
    "    X = np.vstack((X, np.zeros((len(y) - len(X), 1))))\n",
    "\n",
    "# Append 1s to the left side of X, and append X^2 to the right side of X.\n",
    "Xr = np.hstack((np.ones_like(X), X))\n",
    "Xr = np.hstack(( Xr, Xr[:, 1].reshape((Xr.shape[0], 1)) ** 2 ))\n",
    "\n",
    "# Initialize the theta vector to random values.\n",
    "t0 = np.random.rand(Xr.shape[1], 1) \n",
    "t0 = t0[~np.isnan(t0)]\n",
    "t0 = t0.reshape((len(t0), 1))\n",
    "\n",
    "# Run linear regression.\n",
    "tf, costs = l.linear_regression( Xr, y, t0, q.cost, q.grad, a=0.0000000001, n=10000 )\n",
    "\n",
    "# Generate the x and y values for the line of best fit.\n",
    "xm = np.array([[0], [len(X)]])\n",
    "xmr = np.hstack(( np.ones((2, 1)), xm ))\n",
    "xmr = np.hstack(( xmr, xmr[:, 1].reshape((xmr.shape[0], 1)) ** 2 ))\n",
    "ym = xmr @ tf \n",
    "\n",
    "# Plot the points and the line of best fit.\n",
    "plt.plot(X, y, \"ro\")\n",
    "plt.plot(xm, ym)\n",
    "plt.show()\n",
    "\n",
    "# Plot the costs.\n",
    "plt.plot(costs, color=\"green\")\n",
    "plt.show()"
   ]
  },
  {
   "attachments": {},
   "cell_type": "markdown",
   "metadata": {},
   "source": [
    "# Polinomio grado 3"
   ]
  },
  {
   "cell_type": "code",
   "execution_count": null,
   "metadata": {},
   "outputs": [],
   "source": [
    "X = csvValues[:,4]\n",
    "y = csvValues[:,14]\n",
    "X = X[~np.isnan(X)]\n",
    "y = y[~np.isnan(y)]\n",
    "X = X.reshape((-1, 1))\n",
    "y = y.reshape((-1, 1))\n",
    "\n",
    "if len(X) > len(y):\n",
    "    y = np.vstack((y, np.zeros((len(X) - len(y), 1))))\n",
    "elif len(y) > len(X):\n",
    "    X = np.vstack((X, np.zeros((len(y) - len(X), 1))))\n",
    "    \n",
    "Xr = np.hstack((np.ones_like(X), X))\n",
    "Xr = np.hstack(( Xr, Xr[:, 1].reshape((Xr.shape[0], 1)) ** 3 ))\n",
    "to = np.random.rand(Xr.shape[1], 1) # Theta inicial.\n",
    "to = to[~np.isnan(to)]\n",
    "to = to.reshape((len(to), 1))\n",
    "tf, costs = l.linear_regression( Xr, y, to, q.cost, q.grad, a=0.00000000001, n=1000 )\n",
    "xm = np.array([[0], [len(X)]])\n",
    "xmr = np.hstack(( np.ones((2, 1)), xm ))\n",
    "xmr = np.hstack(( xmr, xmr[:, 1].reshape((xmr.shape[0], 1)) ** 3 ))\n",
    "ym = xmr @ tf \n",
    "plt.plot(X, y, \"ro\")\n",
    "plt.plot(xm, ym)\n",
    "plt.show()\n",
    "plt.plot(costs, color=\"green\")\n",
    "plt.show()"
   ]
  },
  {
   "attachments": {},
   "cell_type": "markdown",
   "metadata": {},
   "source": [
    "# Polinomio grado 4"
   ]
  },
  {
   "cell_type": "code",
   "execution_count": null,
   "metadata": {},
   "outputs": [],
   "source": [
    "\n",
    "X = csvValues[:,4]\n",
    "y = csvValues[:,14]\n",
    "X = X[~np.isnan(X)]\n",
    "y = y[~np.isnan(y)]\n",
    "X = X.reshape((-1, 1))\n",
    "y = y.reshape((-1, 1))\n",
    "\n",
    "if len(X) > len(y):\n",
    "    y = np.vstack((y, np.zeros((len(X) - len(y), 1))))\n",
    "elif len(y) > len(X):\n",
    "    X = np.vstack((X, np.zeros((len(y) - len(X), 1))))\n",
    "Xr = np.hstack((np.ones_like(X), X))\n",
    "Xr = np.hstack(( Xr, Xr[:, 1].reshape((Xr.shape[0], 1)) ** 4 ))\n",
    "t0 = np.random.rand(Xr.shape[1], 1) \n",
    "t0 = t0[~np.isnan(t0)]\n",
    "t0 = t0.reshape((len(t0), 1))\n",
    "tf, costs = l.linear_regression( Xr, y, t0, q.cost, q.grad, a=0.00000000000001, n=1000 )\n",
    "xm = np.array([[0], [len(X)]])\n",
    "xmr = np.hstack(( np.ones((2, 1)), xm ))\n",
    "xmr = np.hstack(( xmr, xmr[:, 1].reshape((xmr.shape[0], 1)) ** 4 ))\n",
    "ym = xmr @ tf \n",
    "plt.plot(X, y, \"ro\")\n",
    "plt.plot(xm, ym)\n",
    "plt.show()\n",
    "plt.plot(costs, color=\"green\")\n",
    "plt.show()\n"
   ]
  },
  {
   "attachments": {},
   "cell_type": "markdown",
   "metadata": {},
   "source": [
    "# Polinomio grado 5"
   ]
  },
  {
   "cell_type": "code",
   "execution_count": null,
   "metadata": {},
   "outputs": [],
   "source": [
    "X = csvValues[:,4]\n",
    "y = csvValues[:,14]\n",
    "X = X[~np.isnan(X)]\n",
    "y = y[~np.isnan(y)]\n",
    "X = X.reshape((-1, 1))\n",
    "y = y.reshape((-1, 1))\n",
    "\n",
    "if len(X) > len(y):\n",
    "    y = np.vstack((y, np.zeros((len(X) - len(y), 1))))\n",
    "elif len(y) > len(X):\n",
    "    X = np.vstack((X, np.zeros((len(y) - len(X), 1))))\n",
    "Xr = np.hstack((np.ones_like(X), X))\n",
    "Xr = np.hstack(( Xr, Xr[:, 1].reshape((Xr.shape[0], 1)) ** 5 ))\n",
    "t0 = np.random.rand(Xr.shape[1], 1)\n",
    "t0 = t0[~np.isnan(t0)]\n",
    "t0 = t0.reshape((len(t0), 1))\n",
    "tf, costs = l.linear_regression( Xr, y, t0, q.cost, q.grad, a=0.00000000000000001, n=1500 )\n",
    "xm = np.array([[0], [len(X)]])\n",
    "xmr = np.hstack(( np.ones((2, 1)), xm ))\n",
    "xmr = np.hstack(( xmr, xmr[:, 1].reshape((xmr.shape[0], 1)) ** 5 ))\n",
    "ym = xmr @ tf\n",
    "plt.plot(X, y, \"ro\")\n",
    "plt.plot(xm, ym)\n",
    "plt.show()\n",
    "plt.plot(costs, color=\"green\")\n",
    "plt.show()"
   ]
  },
  {
   "attachments": {},
   "cell_type": "markdown",
   "metadata": {},
   "source": [
    "# Polinomio grado 6"
   ]
  },
  {
   "cell_type": "code",
   "execution_count": null,
   "metadata": {},
   "outputs": [],
   "source": [
    "X = csvValues[:,4]\n",
    "y = csvValues[:,14]\n",
    "X = X[~np.isnan(X)]\n",
    "y = y[~np.isnan(y)]\n",
    "X = X.reshape((-1, 1))\n",
    "y = y.reshape((-1, 1))\n",
    "if len(X) > len(y):\n",
    "    y = np.vstack((y, np.zeros((len(X) - len(y), 1))))\n",
    "elif len(y) > len(X):\n",
    "    X = np.vstack((X, np.zeros((len(y) - len(X), 1))))\n",
    "Xr = np.hstack((np.ones_like(X), X))\n",
    "Xr = np.hstack(( Xr, Xr[:, 1].reshape((Xr.shape[0], 1)) ** 6 ))\n",
    "t0 = np.random.rand(Xr.shape[1], 1)\n",
    "t0 = t0[~np.isnan(t0)]\n",
    "t0 = t0.reshape((len(t0), 1))\n",
    "\n",
    "tf, costs = l.linear_regression( Xr, y, t0, q.cost, q.grad, a=0.0000000000000000000001, n=1000 )\n",
    "xm = np.array([[0], [len(X)]])\n",
    "xmr = np.hstack(( np.ones((2, 1)), xm ))\n",
    "\n",
    "xmr = np.hstack(( xmr, xmr[:, 1].reshape((xmr.shape[0], 1)) ** 6 ))\n",
    "ym = xmr @ tf \n",
    "plt.plot(X, y, \"ro\")\n",
    "plt.plot(xm, ym)\n",
    "plt.show()\n",
    "plt.plot(costs, color=\"green\")\n",
    "plt.show()"
   ]
  },
  {
   "attachments": {},
   "cell_type": "markdown",
   "metadata": {},
   "source": [
    "# Polinomio de grado 7"
   ]
  },
  {
   "cell_type": "code",
   "execution_count": null,
   "metadata": {},
   "outputs": [],
   "source": [
    "X = csvValues[:,4]\n",
    "y = csvValues[:,14]\n",
    "X = X[~np.isnan(X)]\n",
    "y = y[~np.isnan(y)]\n",
    "X = X.reshape((-1, 1))\n",
    "y = y.reshape((-1, 1))\n",
    "\n",
    "\n",
    "if len(X) > len(y):\n",
    "    y = np.vstack((y, np.zeros((len(X) - len(y), 1))))\n",
    "elif len(y) > len(X):\n",
    "    X = np.vstack((X, np.zeros((len(y) - len(X), 1))))\n",
    "    \n",
    "Xr = np.hstack((np.ones_like(X), X))\n",
    "Xr = np.hstack(( Xr, Xr[:, 1].reshape((Xr.shape[0], 1)) ** 7 ))\n",
    "t0 = np.random.rand(Xr.shape[1], 1) \n",
    "t0 = t0[~np.isnan(t0)]\n",
    "t0 = t0.reshape((len(t0), 1))\n",
    "tf, costs = l.linear_regression( Xr, y, t0, q.cost, q.grad, a=0.00000000000000000000000001, n=1500 )\n",
    "xm = np.array([[0], [len(X)]])\n",
    "xmr = np.hstack(( np.ones((2, 1)), xm ))\n",
    "xmr = np.hstack(( xmr, xmr[:, 1].reshape((xmr.shape[0], 1)) ** 7 ))\n",
    "ym = xmr @ tf \n",
    "plt.plot(X, y, \"ro\")\n",
    "plt.plot(xm, ym)\n",
    "plt.show()\n",
    "plt.plot(costs, color=\"green\")\n",
    "plt.show()\n"
   ]
  },
  {
   "attachments": {},
   "cell_type": "markdown",
   "metadata": {},
   "source": [
    "# Polinomio de grado 8"
   ]
  },
  {
   "cell_type": "code",
   "execution_count": null,
   "metadata": {},
   "outputs": [],
   "source": [
    "X = csvValues[:,4]\n",
    "y = csvValues[:,14]\n",
    "X = X[~np.isnan(X)]\n",
    "y = y[~np.isnan(y)]\n",
    "X = X.reshape((-1, 1))\n",
    "y = y.reshape((-1, 1))\n",
    "if len(X) > len(y):\n",
    "    y = np.vstack((y, np.zeros((len(X) - len(y), 1))))\n",
    "elif len(y) > len(X):\n",
    "    X = np.vstack((X, np.zeros((len(y) - len(X), 1))))\n",
    "Xr = np.hstack((np.ones_like(X), X))\n",
    "Xr = np.hstack(( Xr, Xr[:, 1].reshape((Xr.shape[0], 1)) ** 8 ))\n",
    "t0 = np.random.rand(Xr.shape[1], 1) \n",
    "t0 = t0[~np.isnan(t0)]\n",
    "t0 = t0.reshape((len(t0), 1))\n",
    "tf, costs = l.linear_regression( Xr, y, t0, q.cost, q.grad, a=0.00000000000000000000000000000001, n=1500 )\n",
    "xm = np.array([[0], [len(X)]])\n",
    "xmr = np.hstack(( np.ones((2, 1)), xm ))\n",
    "xmr = np.hstack(( xmr, xmr[:, 1].reshape((xmr.shape[0], 1)) ** 8 ))\n",
    "ym = xmr @ tf\n",
    "plt.plot(X, y, \"ro\")\n",
    "plt.plot(xm, ym)\n",
    "plt.show()\n",
    "plt.plot(costs, color=\"green\")\n",
    "plt.show()"
   ]
  },
  {
   "attachments": {},
   "cell_type": "markdown",
   "metadata": {},
   "source": [
    "# Polinomio de grado 9"
   ]
  },
  {
   "cell_type": "code",
   "execution_count": null,
   "metadata": {},
   "outputs": [],
   "source": [
    "X = csvValues[:,4]\n",
    "y = csvValues[:,14]\n",
    "X = X[~np.isnan(X)]\n",
    "y = y[~np.isnan(y)]\n",
    "X = X.reshape((-1, 1))\n",
    "y = y.reshape((-1, 1))\n",
    "if len(X) > len(y):\n",
    "    y = np.vstack((y, np.zeros((len(X) - len(y), 1))))\n",
    "elif len(y) > len(X):\n",
    "    X = np.vstack((X, np.zeros((len(y) - len(X), 1))))\n",
    "Xr = np.hstack((np.ones_like(X), X))\n",
    "Xr = np.hstack(( Xr, Xr[:, 1].reshape((Xr.shape[0], 1)) ** 9 ))\n",
    "t0 = np.random.rand(Xr.shape[1], 1) # Theta inicial.\n",
    "t0 = t0[~np.isnan(t0)]\n",
    "t0 = t0.reshape((len(t0), 1))\n",
    "tf, costs = l.linear_regression( Xr, y, t0, q.cost, q.grad, a=0.00000000000000000000000000000001, n=1500 )\n",
    "xm = np.array([[0], [len(X)]])\n",
    "xmr = np.hstack(( np.ones((2, 1)), xm ))\n",
    "xmr = np.hstack(( xmr, xmr[:, 1].reshape((xmr.shape[0], 1)) ** 9 ))\n",
    "ym = xmr @ tf \n",
    "plt.plot(X, y, \"ro\")\n",
    "plt.plot(xm, ym)\n",
    "plt.show()\n",
    "plt.plot(costs, color=\"green\")\n",
    "plt.show()"
   ]
  },
  {
   "attachments": {},
   "cell_type": "markdown",
   "metadata": {},
   "source": [
    "# Polinomio de grado 10"
   ]
  },
  {
   "cell_type": "code",
   "execution_count": null,
   "metadata": {},
   "outputs": [],
   "source": [
    "\n",
    "X = csvValues[:,4]\n",
    "y = csvValues[:,14]\n",
    "X = X[~np.isnan(X)]\n",
    "y = y[~np.isnan(y)]\n",
    "X = X.reshape((-1, 1))\n",
    "y = y.reshape((-1, 1))\n",
    "if len(X) > len(y):\n",
    "    y = np.vstack((y, np.zeros((len(X) - len(y), 1))))\n",
    "elif len(y) > len(X):\n",
    "    X = np.vstack((X, np.zeros((len(y) - len(X), 1))))\n",
    "Xr = np.hstack((np.ones_like(X), X))\n",
    "Xr = np.hstack(( Xr, Xr[:, 1].reshape((Xr.shape[0], 1)) ** 10 ))\n",
    "to = np.random.rand(Xr.shape[1], 1) \n",
    "to = to[~np.isnan(to)]\n",
    "to = to.reshape((len(to), 1))\n",
    "tf, costs = l.linear_regression( Xr, y, to, q.cost, q.grad, a=0.0000000000000000000000000000000000001, n=1500 )\n",
    "xm = np.array([[0], [len(X)]])\n",
    "xmr = np.hstack(( np.ones((2, 1)), xm ))\n",
    "xmr = np.hstack(( xmr, xmr[:, 1].reshape((xmr.shape[0], 1)) ** 10 ))\n",
    "ym = xmr @ tf\n",
    "plt.plot(X, y, \"ro\")\n",
    "plt.plot(xm, ym)\n",
    "plt.show()\n",
    "plt.plot(costs, color=\"green\")\n",
    "plt.show()\n"
   ]
  },
  {
   "attachments": {},
   "cell_type": "markdown",
   "metadata": {},
   "source": [
    "# Polinomio de grado 11"
   ]
  },
  {
   "cell_type": "code",
   "execution_count": null,
   "metadata": {},
   "outputs": [],
   "source": [
    "X = csvValues[:,4]\n",
    "y = csvValues[:,14]\n",
    "X = X[~np.isnan(X)]\n",
    "y = y[~np.isnan(y)]\n",
    "X = X.reshape((-1, 1))\n",
    "y = y.reshape((-1, 1))\n",
    "if len(X) > len(y):\n",
    "    y = np.vstack((y, np.zeros((len(X) - len(y), 1))))\n",
    "elif len(y) > len(X):\n",
    "    X = np.vstack((X, np.zeros((len(y) - len(X), 1))))\n",
    "Xr = np.hstack((np.ones_like(X), X))\n",
    "Xr = np.hstack(( Xr, Xr[:, 1].reshape((Xr.shape[0], 1)) ** 11 ))\n",
    "t0 = np.random.rand(Xr.shape[1], 1) \n",
    "t0 = t0[~np.isnan(t0)]\n",
    "t0 = t0.reshape((len(t0), 1))\n",
    "tf, costs = l.linear_regression( Xr, y, t0, q.cost, q.grad, a=0.0000000000000000000000000000000000000001, n=1500 )\n",
    "xm = np.array([[0], [len(X)]])\n",
    "xmr = np.hstack(( np.ones((2, 1)), xm ))\n",
    "xmr = np.hstack(( xmr, xmr[:, 1].reshape((xmr.shape[0], 1)) ** 11 ))\n",
    "ym = xmr @ tf \n",
    "plt.plot(X, y, \"ro\")\n",
    "plt.plot(xm, ym)\n",
    "plt.show()\n",
    "plt.plot(costs, color=\"green\")\n",
    "plt.show()"
   ]
  },
  {
   "attachments": {},
   "cell_type": "markdown",
   "metadata": {},
   "source": [
    "# Polinomio de grado 12"
   ]
  },
  {
   "cell_type": "code",
   "execution_count": null,
   "metadata": {},
   "outputs": [],
   "source": [
    "X = csvValues[:,4]\n",
    "y = csvValues[:,14]\n",
    "X = X[~np.isnan(X)]\n",
    "y = y[~np.isnan(y)]\n",
    "X = X.reshape((-1, 1))\n",
    "y = y.reshape((-1, 1))\n",
    "if len(X) > len(y):\n",
    "    y = np.vstack((y, np.zeros((len(X) - len(y), 1))))\n",
    "elif len(y) > len(X):\n",
    "    X = np.vstack((X, np.zeros((len(y) - len(X), 1))))\n",
    "Xr = np.hstack((np.ones_like(X), X))\n",
    "Xr = np.hstack(( Xr, Xr[:, 1].reshape((Xr.shape[0], 1)) ** 12 ))\n",
    "t0 = np.random.rand(Xr.shape[1], 1) \n",
    "t0 = t0[~np.isnan(t0)]\n",
    "t0 = t0.reshape((len(t0), 1))\n",
    "tf, costs = l.linear_regression( Xr, y, t0, q.cost, q.grad, a=0.0000000000000000000000000000000000000000001, n=1500 )\n",
    "xm = np.array([[0], [len(X)]])\n",
    "xmr = np.hstack(( np.ones((2, 1)), xm ))\n",
    "xmr = np.hstack(( xmr, xmr[:, 1].reshape((xmr.shape[0], 1)) ** 12 ))\n",
    "ym = xmr @ tf \n",
    "plt.plot(X, y, \"ro\")\n",
    "plt.plot(xm, ym)\n",
    "plt.show()\n",
    "plt.plot(costs, color=\"green\")\n",
    "plt.show()"
   ]
  },
  {
   "attachments": {},
   "cell_type": "markdown",
   "metadata": {},
   "source": [
    "# Polinomio de grado 13"
   ]
  },
  {
   "cell_type": "code",
   "execution_count": null,
   "metadata": {},
   "outputs": [],
   "source": [
    "X = csvValues[:,4]\n",
    "y = csvValues[:,14]\n",
    "X = X[~np.isnan(X)]\n",
    "y = y[~np.isnan(y)]\n",
    "X = X.reshape((-1, 1))\n",
    "y = y.reshape((-1, 1))\n",
    "if len(X) > len(y):\n",
    "    y = np.vstack((y, np.zeros((len(X) - len(y), 1))))\n",
    "elif len(y) > len(X):\n",
    "    X = np.vstack((X, np.zeros((len(y) - len(X), 1))))\n",
    "Xr = np.hstack((np.ones_like(X), X))\n",
    "Xr = np.hstack(( Xr, Xr[:, 1].reshape((Xr.shape[0], 1)) ** 13 ))\n",
    "t0 = np.random.rand(Xr.shape[1], 1) \n",
    "t0 = t0[~np.isnan(t0)]\n",
    "t0 = t0.reshape((len(t0), 1))\n",
    "tf, costs = l.linear_regression( Xr, y, t0, q.cost, q.grad, a=0.00000000000000000000000000000000000000000000001, n=1500 )\n",
    "xm = np.array([[0], [len(X)]])\n",
    "xmr = np.hstack(( np.ones((2, 1)), xm ))\n",
    "xmr = np.hstack(( xmr, xmr[:, 1].reshape((xmr.shape[0], 1)) ** 13 ))\n",
    "ym = xmr @ tf \n",
    "plt.plot(X, y, \"ro\")\n",
    "plt.plot(xm, ym)\n",
    "plt.show()\n",
    "plt.plot(costs, color=\"green\")\n",
    "plt.show()\n"
   ]
  },
  {
   "attachments": {},
   "cell_type": "markdown",
   "metadata": {},
   "source": [
    "# Polinomio de grado 14"
   ]
  },
  {
   "cell_type": "code",
   "execution_count": null,
   "metadata": {},
   "outputs": [],
   "source": [
    "X = csvValues[:,4]\n",
    "y = csvValues[:,14]\n",
    "X = X[~np.isnan(X)]\n",
    "y = y[~np.isnan(y)]\n",
    "X = X.reshape((-1, 1))\n",
    "y = y.reshape((-1, 1))\n",
    "if len(X) > len(y):\n",
    "    y = np.vstack((y, np.zeros((len(X) - len(y), 1))))\n",
    "elif len(y) > len(X):\n",
    "    X = np.vstack((X, np.zeros((len(y) - len(X), 1))))\n",
    "Xr = np.hstack((np.ones_like(X), X))\n",
    "Xr = np.hstack(( Xr, Xr[:, 1].reshape((Xr.shape[0], 1)) ** 14 ))\n",
    "t0 = np.random.rand(Xr.shape[1], 1)\n",
    "t0 = t0[~np.isnan(t0)]\n",
    "t0 = t0.reshape((len(t0), 1))\n",
    "tf, costs = l.linear_regression( Xr, y, t0, q.cost, q.grad, a=0.000000000000000000000000000000000000000000000000001, n=1500 )\n",
    "xm = np.array([[0], [len(X)]])\n",
    "xmr = np.hstack(( np.ones((2, 1)), xm ))\n",
    "xmr = np.hstack(( xmr, xmr[:, 1].reshape((xmr.shape[0], 1)) ** 14 ))\n",
    "ym = xmr @ tf\n",
    "plt.plot(X, y, \"ro\")\n",
    "plt.plot(xm, ym)\n",
    "plt.show()\n",
    "plt.plot(costs, color=\"green\")\n",
    "plt.show()\n"
   ]
  },
  {
   "attachments": {},
   "cell_type": "markdown",
   "metadata": {},
   "source": [
    "# Polinomio de grado 15"
   ]
  },
  {
   "cell_type": "code",
   "execution_count": null,
   "metadata": {},
   "outputs": [],
   "source": [
    "X = csvValues[:,4]\n",
    "\n",
    "y = csvValues[:,14]\n",
    "\n",
    "X = X[~np.isnan(X)]\n",
    "y = y[~np.isnan(y)]\n",
    "\n",
    "X = X.reshape((-1, 1))\n",
    "y = y.reshape((-1, 1))\n",
    "\n",
    "if len(X) > len(y):\n",
    "    y = np.vstack((y, np.zeros((len(X) - len(y), 1))))\n",
    "elif len(y) > len(X):\n",
    "    X = np.vstack((X, np.zeros((len(y) - len(X), 1))))\n",
    "\n",
    "Xr = np.hstack((np.ones_like(X), X))\n",
    "Xr = np.hstack(( Xr, Xr[:, 1].reshape((Xr.shape[0], 1)) ** 15 ))\n",
    "t0 = np.random.rand(Xr.shape[1], 1)\n",
    "t0 = t0[~np.isnan(t0)]\n",
    "t0 = t0.reshape((len(t0), 1))\n",
    "tf, costs = l.linear_regression( Xr, y, t0, q.cost, q.grad, a=0.0000000000000000000000000000000000000000000000000000001, n=1500 )\n",
    "xm = np.array([[0], [len(X)]])\n",
    "xmr = np.hstack(( np.ones((2, 1)), xm ))\n",
    "xmr = np.hstack(( xmr, xmr[:, 1].reshape((xmr.shape[0], 1)) ** 15 ))\n",
    "ym = xmr @ tf\n",
    "plt.plot(X, y, \"ro\")\n",
    "plt.plot(xm, ym)\n",
    "plt.show()\n",
    "plt.plot(costs, color=\"green\")\n",
    "plt.show()\n"
   ]
  },
  {
   "attachments": {},
   "cell_type": "markdown",
   "metadata": {},
   "source": [
    "# 1.5: Usando cross-validation determine el grado del polinomio que mejor describe la nube de puntos (encuentre el mejor balance entre apego a los datos de entrenamiento y generalización para datos previamente no observados).\n",
    "\n",
    "\n",
    "##### A lo largo del desarrollo de este laboratorio, se ha constatado una sólida relación entre las variables que denotan el hábito de tabaquismo del paciente y la incidencia de infartos. Asimismo, se ha observado que los datos relacionados con la condición cardíaca del paciente ofrecen información relevante acerca de la presencia de infartos a lo largo de su vida. Por otra parte, se ha evidenciado que el grado polinomial óptimo para describir el conjunto de puntos es de uno. En consecuencia, se puede afirmar que una recta sería una representación adecuada para los datos del conjunto, facilitando así su análisis en futuras investigaciones."
   ]
  }
 ],
 "metadata": {
  "kernelspec": {
   "display_name": "Python 3",
   "language": "python",
   "name": "python3"
  },
  "language_info": {
   "codemirror_mode": {
    "name": "ipython",
    "version": 3
   },
   "file_extension": ".py",
   "mimetype": "text/x-python",
   "name": "python",
   "nbconvert_exporter": "python",
   "pygments_lexer": "ipython3",
   "version": "3.11.3"
  },
  "orig_nbformat": 4
 },
 "nbformat": 4,
 "nbformat_minor": 2
}
